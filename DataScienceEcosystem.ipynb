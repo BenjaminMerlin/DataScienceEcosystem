{
 "cells": [
  {
   "cell_type": "markdown",
   "id": "9c0a24c4-e75b-4909-92c2-f6a93d02ce54",
   "metadata": {},
   "source": [
    "# Data Science Tools and Ecosystem"
   ]
  },
  {
   "cell_type": "markdown",
   "id": "f9df8698-e84e-462a-842e-9271cc887f2f",
   "metadata": {},
   "source": [
    "In this notebook, Data Science Tools and Ecosystem are summarized."
   ]
  },
  {
   "cell_type": "markdown",
   "id": "7e76a0e5-5f87-49f3-b740-d314b5b0e65d",
   "metadata": {},
   "source": [
    "**Objectives:**\n",
    "\n",
    "+ List popular languages for Data Science\n",
    "+ List popular developments for Data Science\n",
    "+ Show the use of code cells"
   ]
  },
  {
   "cell_type": "markdown",
   "id": "88321141-bc31-44c0-8dcd-2b9f1522bbfb",
   "metadata": {},
   "source": [
    "Some of the popular languages that Data Scientists use are:\n",
    "\n",
    "1. Python\n",
    "2. R\n",
    "3. SQL"
   ]
  },
  {
   "cell_type": "markdown",
   "id": "2a4ca178-d754-4206-b4a2-7eaba8da73e2",
   "metadata": {},
   "source": [
    "Some of the commonly used libraries used by Data Scientists include:\n",
    "\n",
    "1. Pandas\n",
    "2. Scikit-learn\n",
    "3. MatplotLib\n",
    "4. ggplot\n"
   ]
  },
  {
   "cell_type": "markdown",
   "id": "1bcf4117-5d75-4029-af88-aa1a9170ae25",
   "metadata": {},
   "source": [
    "Data Science Tools|\n",
    "-----------------\n",
    "Jupyter IDE\n",
    "Rstudio\n",
    "Anaconda Navigator"
   ]
  },
  {
   "cell_type": "markdown",
   "id": "fff3d7c1-7e53-4e34-b7b0-93ca9d6c7958",
   "metadata": {},
   "source": [
    "### Below are a few examples of evaluating arithmetic expressions in Python"
   ]
  },
  {
   "cell_type": "code",
   "execution_count": 1,
   "id": "75cc5719-4568-49d4-b589-8a6fffb5ee64",
   "metadata": {
    "tags": []
   },
   "outputs": [
    {
     "data": {
      "text/plain": [
       "17"
      ]
     },
     "execution_count": 1,
     "metadata": {},
     "output_type": "execute_result"
    }
   ],
   "source": [
    "# This a simple arithmetic expression to mutiply then add integers\n",
    "(3*4)+5"
   ]
  },
  {
   "cell_type": "code",
   "execution_count": 2,
   "id": "9cdfcfb9-e0f4-4e83-8970-bbe1ec1231c0",
   "metadata": {
    "tags": []
   },
   "outputs": [
    {
     "data": {
      "text/plain": [
       "3.3333333333333335"
      ]
     },
     "execution_count": 2,
     "metadata": {},
     "output_type": "execute_result"
    }
   ],
   "source": [
    "# This will convert 200 minutes to hours by diving by 60\n",
    "200/60"
   ]
  },
  {
   "cell_type": "markdown",
   "id": "886219e6-7b7d-4ea5-b499-c72988cc724e",
   "metadata": {},
   "source": [
    "## Author\n",
    "Benjamín Merlín"
   ]
  }
 ],
 "metadata": {
  "kernelspec": {
   "display_name": "Python",
   "language": "python",
   "name": "conda-env-python-py"
  },
  "language_info": {
   "codemirror_mode": {
    "name": "ipython",
    "version": 3
   },
   "file_extension": ".py",
   "mimetype": "text/x-python",
   "name": "python",
   "nbconvert_exporter": "python",
   "pygments_lexer": "ipython3",
   "version": "3.7.12"
  }
 },
 "nbformat": 4,
 "nbformat_minor": 5
}
